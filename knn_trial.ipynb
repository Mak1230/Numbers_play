{
 "cells": [
  {
   "cell_type": "code",
   "execution_count": 10,
   "id": "4adda517",
   "metadata": {},
   "outputs": [
    {
     "name": "stdout",
     "output_type": "stream",
     "text": [
      "Counter({'b': 2, 'a': 1, 'c': 1})\n"
     ]
    }
   ],
   "source": [
    "#Knn from scratch and only distance is involved as we have seen while predicting\n",
    "from typing import List\n",
    "from collections import Counter\n",
    "\n",
    "def raw_maj_vote(labels:List[str]) -> str:\n",
    "    votes = Counter(labels)\n",
    "    print(votes)\n",
    "    winner, _ = votes.most_common(1)[0]\n",
    "    return winner\n",
    "\n",
    "assert raw_maj_vote(['a','b','c','b']) == 'b'\n",
    "\n",
    "#in this we assing the output to which we have maximum frequnecy but this causes a problem in case of same frequency\n"
   ]
  },
  {
   "cell_type": "code",
   "execution_count": 18,
   "id": "a74f1409",
   "metadata": {},
   "outputs": [
    {
     "name": "stdout",
     "output_type": "stream",
     "text": [
      "Counter({'a': 2, 'b': 2, 'c': 1})\n",
      "\n",
      "\n",
      "a 2\n",
      "\n",
      "\n",
      "dict_values([2, 2, 1])\n",
      "\n",
      "\n",
      "2\n",
      "Counter({'b': 2, 'a': 1, 'c': 1})\n",
      "\n",
      "\n",
      "b 2\n",
      "\n",
      "\n",
      "dict_values([1, 2, 1])\n",
      "\n",
      "\n",
      "1\n"
     ]
    }
   ],
   "source": [
    "#now if we have duplicates running aroud we will try reducing k here \n",
    "\n",
    "def majority_vote(lables: List[str]) -> str:\n",
    "    #assuming that the lables are ordered from nearest to farthest\n",
    "    vote_counts = Counter(lables)\n",
    "    winner, winner_count = vote_counts.most_common(1)[0]\n",
    "    num_winners = len([count\n",
    "                        for count in vote_counts.values()\n",
    "                        if count == winner_count])\n",
    "    print(vote_counts)\n",
    "    print(\"\\n\")\n",
    "    print(winner,winner_count)\n",
    "    print(\"\\n\")\n",
    "    print(vote_counts.values())\n",
    "    print(\"\\n\")\n",
    "    print(num_winners)\n",
    "    \n",
    "    if num_winners == 1:\n",
    "        return winner\n",
    "    else:\n",
    "        return majority_vote(lables[:-1])\n",
    "    \n",
    "assert majority_vote(['a','b','c','b','a']) == 'b'    "
   ]
  },
  {
   "cell_type": "code",
   "execution_count": null,
   "id": "413b4f20",
   "metadata": {},
   "outputs": [],
   "source": []
  }
 ],
 "metadata": {
  "kernelspec": {
   "display_name": "Python 3 (ipykernel)",
   "language": "python",
   "name": "python3"
  },
  "language_info": {
   "codemirror_mode": {
    "name": "ipython",
    "version": 3
   },
   "file_extension": ".py",
   "mimetype": "text/x-python",
   "name": "python",
   "nbconvert_exporter": "python",
   "pygments_lexer": "ipython3",
   "version": "3.11.3"
  }
 },
 "nbformat": 4,
 "nbformat_minor": 5
}
